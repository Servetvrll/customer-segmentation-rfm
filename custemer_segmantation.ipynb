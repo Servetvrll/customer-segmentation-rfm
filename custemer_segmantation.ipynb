{
  "nbformat": 4,
  "nbformat_minor": 0,
  "metadata": {
    "colab": {
      "provenance": [],
      "mount_file_id": "138HE_gfDGCOl-MX-9NnROQsQzYXJKFYH",
      "authorship_tag": "ABX9TyPbbuUtHS5ESrupwz5Z9joj",
      "include_colab_link": true
    },
    "kernelspec": {
      "name": "python3",
      "display_name": "Python 3"
    },
    "language_info": {
      "name": "python"
    }
  },
  "cells": [
    {
      "cell_type": "markdown",
      "metadata": {
        "id": "view-in-github",
        "colab_type": "text"
      },
      "source": [
        "<a href=\"https://colab.research.google.com/github/Servetvrll/customer-segmentation-rfm/blob/kmeans-segmentation/custemer_segmantation.ipynb\" target=\"_parent\"><img src=\"https://colab.research.google.com/assets/colab-badge.svg\" alt=\"Open In Colab\"/></a>"
      ]
    },
    {
      "cell_type": "code",
      "execution_count": null,
      "metadata": {
        "id": "uBJ_wlaKyzeS"
      },
      "outputs": [],
      "source": [
        "import numpy as np\n",
        "import pandas as pd\n",
        "import matplotlib.pyplot as plt\n",
        "import seaborn as sns\n",
        "\n",
        "data = pd.read_csv(\"/content/drive/MyDrive/Colab Notebooks/Customer_Segmentation/custemer_segmentation.csv\")\n",
        "\n",
        "print(data.head())\n",
        "print(\"-----------------------------------------\")\n",
        "print(data.tail())\n",
        "print(\"-----------------------------------------\")\n",
        "print(data.info())\n",
        "print(\"-----------------------------------------\")\n",
        "print(data.describe())\n",
        "print(\"-----------------------------------------\")\n",
        "print(data.isnull().sum())\n",
        "print(\"-----------------------------------------\")\n",
        "\n",
        "data.drop([\"CUST_ID\"], axis=1, inplace=True)\n",
        "print(data.head())"
      ]
    },
    {
      "cell_type": "code",
      "source": [
        "data[\"MINIMUM_PAYMENTS\"] = data[\"MINIMUM_PAYMENTS\"].fillna(0)\n",
        "data.dropna(subset=['CREDIT_LIMIT'],inplace=True)\n",
        "data.isnull().sum()"
      ],
      "metadata": {
        "id": "zmhOBboUMkws"
      },
      "execution_count": null,
      "outputs": []
    },
    {
      "cell_type": "code",
      "source": [
        "data.hist(figsize=(20, 15), bins=50)\n",
        "plt.tight_layout()\n",
        "plt.show()\n",
        "\n",
        "corr_matrix = data.corr()\n",
        "\n",
        "plt.figure(figsize=(18, 15))\n",
        "sns.heatmap(corr_matrix, annot=True, cmap='coolwarm', fmt=\".2f\")\n",
        "plt.title('Değişkenler Arasındaki Korelasyon Matrisi')\n",
        "plt.show()\n",
        "\n",
        "plt.figure(figsize=(15,60))\n",
        "for i,col in enumerate(data.columns,1):\n",
        "  plt.subplot(12, 2, i)\n",
        "  sns.boxplot(x=data[col])\n",
        "  plt.title(f'{col} İçin Kutu Grafiği')\n",
        "plt.tight_layout()\n",
        "plt.show()"
      ],
      "metadata": {
        "id": "SnixZH0c0G0_"
      },
      "execution_count": null,
      "outputs": []
    },
    {
      "cell_type": "code",
      "source": [
        "colomns =['BALANCE',  'PURCHASES', 'ONEOFF_PURCHASES',\n",
        "       'INSTALLMENTS_PURCHASES', 'CASH_ADVANCE','ONEOFF_PURCHASES_FREQUENCY', 'PURCHASES_INSTALLMENTS_FREQUENCY',\n",
        "       'CASH_ADVANCE_FREQUENCY', 'CASH_ADVANCE_TRX', 'PURCHASES_TRX',\n",
        "       'CREDIT_LIMIT', 'PAYMENTS', 'MINIMUM_PAYMENTS'\n",
        "       ]\n",
        "\n",
        "df_new = data[colomns]\n",
        "\n",
        "print(\"Aykırı Değerleri Kırpma İşlemi (IQR Yöntemiyle):\")\n",
        "for col in df_new:\n",
        "    Q1 = data[col].quantile(0.25)\n",
        "    Q3 = data[col].quantile(0.75)\n",
        "    IQR = Q3 - Q1\n",
        "    lower_bound = Q1 - 1.5 * IQR\n",
        "    upper_bound = Q3 + 1.5 * IQR\n",
        "    data[col] = data[col].clip(lower_bound, upper_bound)\n",
        "    print(f\"'{col}' sütunundaki aykırı değerler [{lower_bound:.2f}, {upper_bound:.2f}] aralığına kırpıldı.\")\n",
        "print(\"---------------------\")\n",
        "\n",
        "plt.figure(figsize=(15,60))\n",
        "for i,col in enumerate(data.columns,1):\n",
        "  plt.subplot(12, 2, i)\n",
        "  sns.boxplot(x=data[col])\n",
        "  plt.title(f'{col} İçin Kutu Grafiği')\n",
        "plt.tight_layout()\n",
        "plt.show()"
      ],
      "metadata": {
        "id": "eVSuxYXNJm81"
      },
      "execution_count": null,
      "outputs": []
    },
    {
      "cell_type": "code",
      "source": [
        "numeric_data = data.select_dtypes(include=[np.number])\n",
        "\n",
        "corr_matrix = numeric_data.corr().abs()\n",
        "\n",
        "mask = np.triu(np.ones_like(corr_matrix, dtype=bool))\n",
        "mask = mask | (corr_matrix < 0.80)\n",
        "\n",
        "plt.figure(figsize=(18, 15))\n",
        "sns.heatmap(corr_matrix, annot=True, cmap='coolwarm', fmt=\".2f\", mask=mask)\n",
        "plt.title('Korelasyonu 0.80 ve Üzeri Olan Sütunlar')\n",
        "plt.show()\n",
        "\n",
        "print(data.columns)"
      ],
      "metadata": {
        "id": "x_aRtJlCKu7y"
      },
      "execution_count": null,
      "outputs": []
    },
    {
      "cell_type": "code",
      "source": [
        "df = data.drop(['MINIMUM_PAYMENTS', 'PURCHASES_TRX', 'CASH_ADVANCE_TRX'],axis=1)\n",
        "df.columns\n"
      ],
      "metadata": {
        "id": "2Sd-0l5nTRJT"
      },
      "execution_count": null,
      "outputs": []
    },
    {
      "cell_type": "code",
      "source": [
        "from sklearn.preprocessing import StandardScaler\n",
        "\n",
        "X = df.copy()\n",
        "scaler = StandardScaler()\n",
        "X_scaled = scaler.fit_transform(X)\n",
        "X_scaled_df = pd.DataFrame(X_scaled, columns=X.columns)\n",
        "\n",
        "print(\"Standartlaştırılmış verinin ilk 5 satırı:\")\n",
        "\n",
        "x = data.copy()\n",
        "x_scaled = scaler.fit_transform(x)\n",
        "x_scaled_df = pd.DataFrame(x_scaled, columns=x.columns)\n",
        "\n",
        "print(\"Standartlaştırılmış verinin ilk 5 satırı:\")\n"
      ],
      "metadata": {
        "id": "18d-TlFCUDOr"
      },
      "execution_count": null,
      "outputs": []
    },
    {
      "cell_type": "code",
      "source": [
        "from sklearn.cluster import KMeans\n",
        "\n",
        "wcss = []\n",
        "k_values = range(1, 11)\n",
        "\n",
        "for k in k_values:\n",
        "\n",
        "    kmeans = KMeans(n_clusters=k, init='k-means++', max_iter=300, n_init=10, random_state=42)\n",
        "    kmeans.fit(x_scaled_df)\n",
        "    wcss.append(kmeans.inertia_)\n",
        "\n",
        "\n",
        "plt.figure(figsize=(10, 6))\n",
        "plt.plot(k_values, wcss, marker='o', linestyle='--')\n",
        "plt.title('Dirsek Yöntemi (Elbow Method)')\n",
        "plt.xlabel('Küme Sayısı (k)')\n",
        "plt.ylabel('Küme İçi Kareler Toplamı (WCSS)')\n",
        "plt.xticks(k_values)\n",
        "plt.grid(True)\n",
        "plt.show()"
      ],
      "metadata": {
        "id": "0TMF_JNOVeHu"
      },
      "execution_count": null,
      "outputs": []
    },
    {
      "cell_type": "code",
      "source": [
        "from sklearn.cluster import KMeans\n",
        "\n",
        "wcss = []\n",
        "k_values = range(1, 11)\n",
        "\n",
        "for k in k_values:\n",
        "    kmeans = KMeans(n_clusters=k, init='k-means++', max_iter=300, n_init=10, random_state=42)\n",
        "    kmeans.fit(X_scaled_df)\n",
        "    wcss.append(kmeans.inertia_)\n",
        "\n",
        "plt.figure(figsize=(10, 6))\n",
        "plt.plot(k_values, wcss, marker='o', linestyle='--')\n",
        "plt.title('Dirsek Yöntemi (Elbow Method)')\n",
        "plt.xlabel('Küme Sayısı (k)')\n",
        "plt.ylabel('Küme İçi Kareler Toplamı (WCSS)')\n",
        "plt.xticks(k_values)\n",
        "plt.grid(True)\n",
        "plt.show()"
      ],
      "metadata": {
        "id": "rwIH9jZ7Us4i"
      },
      "execution_count": null,
      "outputs": []
    },
    {
      "cell_type": "code",
      "source": [
        "from sklearn.metrics import silhouette_score\n",
        "\n",
        "silhouette_scores = []\n",
        "k_values = range(2, 11)\n",
        "\n",
        "for k in k_values:\n",
        "    kmeans = KMeans(n_clusters=k, init='k-means++', max_iter=300, n_init=10, random_state=42)\n",
        "    cluster_labels = kmeans.fit_predict(X_scaled_df)\n",
        "    score = silhouette_score(X_scaled_df, cluster_labels)\n",
        "    silhouette_scores.append(score)\n",
        "\n",
        "\n",
        "plt.figure(figsize=(10, 6))\n",
        "plt.plot(k_values, silhouette_scores, marker='o', linestyle='--')\n",
        "plt.title('Silüet Skoru Yöntemi')\n",
        "plt.xlabel('Küme Sayısı (k)')\n",
        "plt.ylabel('Ortalama Silüet Skoru')\n",
        "plt.xticks(k_values)\n",
        "plt.grid(True)\n",
        "plt.show()\n",
        "\n",
        "optimal_k = k_values[silhouette_scores.index(max(silhouette_scores))]\n",
        "print(f\"En yüksek Silüet skorunu veren k değeri: {optimal_k}\")\n",
        "print(f\"En yüksek Silüet Skoru: {max(silhouette_scores):.2f}\")"
      ],
      "metadata": {
        "id": "eIunWoj4VChv"
      },
      "execution_count": null,
      "outputs": []
    },
    {
      "cell_type": "code",
      "source": [
        "from sklearn.metrics import silhouette_score\n",
        "\n",
        "silhouette_scores = []\n",
        "k_values = range(2, 11)\n",
        "\n",
        "for k in k_values:\n",
        "    kmeans = KMeans(n_clusters=k, init='k-means++', max_iter=300, n_init=10, random_state=42)\n",
        "    cluster_labels = kmeans.fit_predict(x_scaled_df)\n",
        "    score = silhouette_score(x_scaled_df, cluster_labels)\n",
        "    silhouette_scores.append(score)\n",
        "\n",
        "\n",
        "plt.figure(figsize=(10, 6))\n",
        "plt.plot(k_values, silhouette_scores, marker='o', linestyle='--')\n",
        "plt.title('Silüet Skoru Yöntemi')\n",
        "plt.xlabel('Küme Sayısı (k)')\n",
        "plt.ylabel('Ortalama Silüet Skoru')\n",
        "plt.xticks(k_values)\n",
        "plt.grid(True)\n",
        "plt.show()\n",
        "\n",
        "optimal_k = k_values[silhouette_scores.index(max(silhouette_scores))]\n",
        "print(f\"En yüksek Silüet skorunu veren k değeri: {optimal_k}\")\n",
        "print(f\"En yüksek Silüet Skoru: {max(silhouette_scores):.2f}\")"
      ],
      "metadata": {
        "id": "9XCumt5wWGZZ"
      },
      "execution_count": null,
      "outputs": []
    }
  ]
}